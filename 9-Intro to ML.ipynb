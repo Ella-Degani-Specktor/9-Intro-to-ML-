{
 "cells": [
  {
   "cell_type": "markdown",
   "id": "66eab9bc",
   "metadata": {},
   "source": [
    "# Intro to ML - Binary classification model for a mobile carrier"
   ]
  },
  {
   "cell_type": "markdown",
   "id": "2fd7595c",
   "metadata": {
    "toc": true
   },
   "source": [
    "<h1>Table of Contents<span class=\"tocSkip\"></span></h1>\n",
    "<div class=\"toc\"><ul class=\"toc-item\"><li><span><a href=\"#Intro-to-ML---Binary-classification-model-for-a-mobile-carrier\" data-toc-modified-id=\"Intro-to-ML---Binary-classification-model-for-a-mobile-carrier-1\"><span class=\"toc-item-num\">1&nbsp;&nbsp;</span>Intro to ML - Binary classification model for a mobile carrier</a></span></li><li><span><a href=\"#Project-description\" data-toc-modified-id=\"Project-description-2\"><span class=\"toc-item-num\">2&nbsp;&nbsp;</span>Project description</a></span></li><li><span><a href=\"#Data-description\" data-toc-modified-id=\"Data-description-3\"><span class=\"toc-item-num\">3&nbsp;&nbsp;</span>Data description</a></span></li><li><span><a href=\"#Library-imports\" data-toc-modified-id=\"Library-imports-4\"><span class=\"toc-item-num\">4&nbsp;&nbsp;</span>Library imports</a></span></li><li><span><a href=\"#CSV-file-read\" data-toc-modified-id=\"CSV-file-read-5\"><span class=\"toc-item-num\">5&nbsp;&nbsp;</span>CSV file read</a></span></li><li><span><a href=\"#General-info-and-preprocessing\" data-toc-modified-id=\"General-info-and-preprocessing-6\"><span class=\"toc-item-num\">6&nbsp;&nbsp;</span>General info and preprocessing</a></span></li><li><span><a href=\"#Split-source-data-into-training-set,-validation-set-and-test-set\" data-toc-modified-id=\"Split-source-data-into-training-set,-validation-set-and-test-set-7\"><span class=\"toc-item-num\">7&nbsp;&nbsp;</span>Split source data into training set, validation set and test set</a></span></li><li><span><a href=\"#Investigate-different-model-quality-by-changing-hyperparameters\" data-toc-modified-id=\"Investigate-different-model-quality-by-changing-hyperparameters-8\"><span class=\"toc-item-num\">8&nbsp;&nbsp;</span>Investigate different model quality by changing hyperparameters</a></span><ul class=\"toc-item\"><li><span><a href=\"#Decision-Tree-Classifier\" data-toc-modified-id=\"Decision-Tree-Classifier-8.1\"><span class=\"toc-item-num\">8.1&nbsp;&nbsp;</span>Decision Tree Classifier</a></span></li><li><span><a href=\"#Random-Forest-Classifier\" data-toc-modified-id=\"Random-Forest-Classifier-8.2\"><span class=\"toc-item-num\">8.2&nbsp;&nbsp;</span>Random Forest Classifier</a></span></li><li><span><a href=\"#Logistic-Regression\" data-toc-modified-id=\"Logistic-Regression-8.3\"><span class=\"toc-item-num\">8.3&nbsp;&nbsp;</span>Logistic Regression</a></span></li></ul></li><li><span><a href=\"#Model-quality-check-using-test-set\" data-toc-modified-id=\"Model-quality-check-using-test-set-9\"><span class=\"toc-item-num\">9&nbsp;&nbsp;</span>Model quality check using test set</a></span></li><li><span><a href=\"#Model-sanity-check\" data-toc-modified-id=\"Model-sanity-check-10\"><span class=\"toc-item-num\">10&nbsp;&nbsp;</span>Model sanity check</a></span></li><li><span><a href=\"#Conclusion\" data-toc-modified-id=\"Conclusion-11\"><span class=\"toc-item-num\">11&nbsp;&nbsp;</span>Conclusion</a></span></li></ul></div>"
   ]
  },
  {
   "cell_type": "markdown",
   "id": "758bb5bd",
   "metadata": {},
   "source": [
    "# Project description"
   ]
  },
  {
   "cell_type": "markdown",
   "id": "f2154fa7",
   "metadata": {},
   "source": [
    "Mobile carrier Megaline found that many of their subscribers use legacy plans. \n",
    "\n",
    "They want to develop a model to analyze subscribers' behavior and recommend one of Megaline's newer plans: Smart or Ultra.\n",
    "\n",
    "We have access to behavior data about subscribers who already switched to the new plans. \n",
    "\n",
    "For this classification task, we need to develop a model to pick the right plan with the highest possible accuracy."
   ]
  },
  {
   "cell_type": "markdown",
   "id": "5e7687de",
   "metadata": {},
   "source": [
    "# Data description"
   ]
  },
  {
   "cell_type": "markdown",
   "id": "f866ff3e",
   "metadata": {},
   "source": [
    "Every observation in the dataset contains average monthly behavior info about one user.\n",
    "\n",
    "The info given is as follows:\n",
    "- `сalls` — number of calls,\n",
    "- `minutes` — total call duration in minutes,\n",
    "- `messages` — number of text messages,\n",
    "- `mb_used` — internet traffic used in MB,\n",
    "- `is_ultra` — plan for the current month (Ultra - 1, Smart - 0)."
   ]
  },
  {
   "cell_type": "markdown",
   "id": "7c24999d",
   "metadata": {},
   "source": [
    "# Library imports"
   ]
  },
  {
   "cell_type": "code",
   "execution_count": 1,
   "id": "798ee0c5",
   "metadata": {},
   "outputs": [],
   "source": [
    "#Libraries and project environment setup:\n",
    "\n",
    "##Pandas, Numpy and Datetime for data preprocessing and manipulation\n",
    "import pandas as pd\n",
    "import numpy as np\n",
    "import datetime\n",
    "from datetime import datetime\n",
    "\n",
    "##Remove warnings\n",
    "import sys\n",
    "import warnings\n",
    "if not sys.warnoptions:\n",
    "   warnings.simplefilter(\"ignore\");\n",
    "\n",
    "##Scipy, Math and Random for SDA\n",
    "from scipy import stats as st\n",
    "from scipy.stats import loguniform\n",
    "import math as mth\n",
    "import random\n",
    "\n",
    "##Matplotlib, Seaborn, Plotly, Altair and Streamlit for visualization\n",
    "import matplotlib.pyplot as plt\n",
    "from matplotlib.lines import Line2D\n",
    "from matplotlib import rcParams\n",
    "from matplotlib.pyplot import figure\n",
    "import seaborn as sns\n",
    "import plotly.express as px\n",
    "import plotly.graph_objects as go\n",
    "import plotly.graph_objects as go\n",
    "from plotly import tools\n",
    "import plotly.offline as py\n",
    "import altair as alt\n",
    "import streamlit as sl\n",
    "from IPython.display import Image\n",
    "\n",
    "#USAddress for handling USA addresses in DF\n",
    "import usaddress\n",
    "\n",
    "#SKLearn and JobLib for ML\n",
    "import sklearn\n",
    "from sklearn.tree import DecisionTreeClassifier\n",
    "from sklearn.ensemble import RandomForestClassifier\n",
    "from sklearn.linear_model import LogisticRegression\n",
    "from sklearn.tree import DecisionTreeRegressor\n",
    "from sklearn.ensemble import RandomForestRegressor\n",
    "from sklearn.linear_model import LinearRegression\n",
    "from sklearn.dummy import DummyClassifier\n",
    "from sklearn.preprocessing import StandardScaler as ss\n",
    "from sklearn.model_selection import train_test_split\n",
    "from sklearn.metrics import accuracy_score\n",
    "from sklearn.metrics import mean_squared_error, mean_absolute_error\n",
    "from sklearn.datasets import make_blobs\n",
    "from sklearn.model_selection import RepeatedStratifiedKFold\n",
    "from sklearn.model_selection import GridSearchCV\n",
    "from sklearn.model_selection import RandomizedSearchCV\n",
    "import joblib\n",
    "from joblib import dump"
   ]
  },
  {
   "cell_type": "markdown",
   "id": "55109094",
   "metadata": {},
   "source": [
    "# CSV file read"
   ]
  },
  {
   "cell_type": "code",
   "execution_count": 2,
   "id": "b48bad00",
   "metadata": {},
   "outputs": [],
   "source": [
    "#We use try-except to handle unexpected errors\n",
    "try:\n",
    "    df=pd.read_csv('/Downloads/users_behavior.csv.csv')\n",
    "\n",
    "except:\n",
    "    df=pd.read_csv('https://code.s3.yandex.net/datasets/users_behavior.csv')"
   ]
  },
  {
   "cell_type": "markdown",
   "id": "8b0a4501",
   "metadata": {},
   "source": [
    "# General info and preprocessing"
   ]
  },
  {
   "cell_type": "code",
   "execution_count": 3,
   "id": "8078fef9",
   "metadata": {},
   "outputs": [
    {
     "data": {
      "text/html": [
       "<div>\n",
       "<style scoped>\n",
       "    .dataframe tbody tr th:only-of-type {\n",
       "        vertical-align: middle;\n",
       "    }\n",
       "\n",
       "    .dataframe tbody tr th {\n",
       "        vertical-align: top;\n",
       "    }\n",
       "\n",
       "    .dataframe thead th {\n",
       "        text-align: right;\n",
       "    }\n",
       "</style>\n",
       "<table border=\"1\" class=\"dataframe\">\n",
       "  <thead>\n",
       "    <tr style=\"text-align: right;\">\n",
       "      <th></th>\n",
       "      <th>calls</th>\n",
       "      <th>minutes</th>\n",
       "      <th>messages</th>\n",
       "      <th>mb_used</th>\n",
       "      <th>is_ultra</th>\n",
       "    </tr>\n",
       "  </thead>\n",
       "  <tbody>\n",
       "    <tr>\n",
       "      <th>0</th>\n",
       "      <td>40.0</td>\n",
       "      <td>311.90</td>\n",
       "      <td>83.0</td>\n",
       "      <td>19915.42</td>\n",
       "      <td>0</td>\n",
       "    </tr>\n",
       "    <tr>\n",
       "      <th>1</th>\n",
       "      <td>85.0</td>\n",
       "      <td>516.75</td>\n",
       "      <td>56.0</td>\n",
       "      <td>22696.96</td>\n",
       "      <td>0</td>\n",
       "    </tr>\n",
       "    <tr>\n",
       "      <th>2</th>\n",
       "      <td>77.0</td>\n",
       "      <td>467.66</td>\n",
       "      <td>86.0</td>\n",
       "      <td>21060.45</td>\n",
       "      <td>0</td>\n",
       "    </tr>\n",
       "    <tr>\n",
       "      <th>3</th>\n",
       "      <td>106.0</td>\n",
       "      <td>745.53</td>\n",
       "      <td>81.0</td>\n",
       "      <td>8437.39</td>\n",
       "      <td>1</td>\n",
       "    </tr>\n",
       "    <tr>\n",
       "      <th>4</th>\n",
       "      <td>66.0</td>\n",
       "      <td>418.74</td>\n",
       "      <td>1.0</td>\n",
       "      <td>14502.75</td>\n",
       "      <td>0</td>\n",
       "    </tr>\n",
       "  </tbody>\n",
       "</table>\n",
       "</div>"
      ],
      "text/plain": [
       "   calls  minutes  messages   mb_used  is_ultra\n",
       "0   40.0   311.90      83.0  19915.42         0\n",
       "1   85.0   516.75      56.0  22696.96         0\n",
       "2   77.0   467.66      86.0  21060.45         0\n",
       "3  106.0   745.53      81.0   8437.39         1\n",
       "4   66.0   418.74       1.0  14502.75         0"
      ]
     },
     "execution_count": 3,
     "metadata": {},
     "output_type": "execute_result"
    }
   ],
   "source": [
    "#First, in order to guarantee efficiency we immediately drop row-based duplicates\n",
    "df.drop_duplicates(inplace=True,keep='last')\n",
    "df.reset_index(drop=True, inplace=True)\n",
    "\n",
    "#Print the first five entries in the dataframe\n",
    "df.head()"
   ]
  },
  {
   "cell_type": "markdown",
   "id": "0f5140d2",
   "metadata": {},
   "source": [
    "No visible NaN values."
   ]
  },
  {
   "cell_type": "code",
   "execution_count": 4,
   "id": "ef716917",
   "metadata": {},
   "outputs": [
    {
     "name": "stdout",
     "output_type": "stream",
     "text": [
      "<class 'pandas.core.frame.DataFrame'>\n",
      "RangeIndex: 3214 entries, 0 to 3213\n",
      "Data columns (total 5 columns):\n",
      " #   Column    Non-Null Count  Dtype  \n",
      "---  ------    --------------  -----  \n",
      " 0   calls     3214 non-null   float64\n",
      " 1   minutes   3214 non-null   float64\n",
      " 2   messages  3214 non-null   float64\n",
      " 3   mb_used   3214 non-null   float64\n",
      " 4   is_ultra  3214 non-null   int64  \n",
      "dtypes: float64(4), int64(1)\n",
      "memory usage: 125.7 KB\n"
     ]
    }
   ],
   "source": [
    "#General file examination (missing values and data types)\n",
    "df.info()"
   ]
  },
  {
   "cell_type": "markdown",
   "id": "137c1497",
   "metadata": {},
   "source": [
    "- Results show column names are accurate to the project data description.\n",
    "- Dataset includes 3214 entries and 5 columns.\n",
    "- There aren't any missing values.\n",
    "- Data types are fine.\n",
    "- `is_ultra` is the binary target variable and the other 4 are numerical features."
   ]
  },
  {
   "cell_type": "code",
   "execution_count": 5,
   "id": "2c1e7954",
   "metadata": {
    "scrolled": true
   },
   "outputs": [
    {
     "data": {
      "text/html": [
       "<div>\n",
       "<style scoped>\n",
       "    .dataframe tbody tr th:only-of-type {\n",
       "        vertical-align: middle;\n",
       "    }\n",
       "\n",
       "    .dataframe tbody tr th {\n",
       "        vertical-align: top;\n",
       "    }\n",
       "\n",
       "    .dataframe thead th {\n",
       "        text-align: right;\n",
       "    }\n",
       "</style>\n",
       "<table border=\"1\" class=\"dataframe\">\n",
       "  <thead>\n",
       "    <tr style=\"text-align: right;\">\n",
       "      <th></th>\n",
       "      <th>calls</th>\n",
       "      <th>minutes</th>\n",
       "      <th>messages</th>\n",
       "      <th>mb_used</th>\n",
       "      <th>is_ultra</th>\n",
       "    </tr>\n",
       "  </thead>\n",
       "  <tbody>\n",
       "    <tr>\n",
       "      <th>count</th>\n",
       "      <td>3214.000000</td>\n",
       "      <td>3214.000000</td>\n",
       "      <td>3214.000000</td>\n",
       "      <td>3214.000000</td>\n",
       "      <td>3214.000000</td>\n",
       "    </tr>\n",
       "    <tr>\n",
       "      <th>mean</th>\n",
       "      <td>63.038892</td>\n",
       "      <td>438.208787</td>\n",
       "      <td>38.281269</td>\n",
       "      <td>17207.673836</td>\n",
       "      <td>0.306472</td>\n",
       "    </tr>\n",
       "    <tr>\n",
       "      <th>std</th>\n",
       "      <td>33.236368</td>\n",
       "      <td>234.569872</td>\n",
       "      <td>36.148326</td>\n",
       "      <td>7570.968246</td>\n",
       "      <td>0.461100</td>\n",
       "    </tr>\n",
       "    <tr>\n",
       "      <th>min</th>\n",
       "      <td>0.000000</td>\n",
       "      <td>0.000000</td>\n",
       "      <td>0.000000</td>\n",
       "      <td>0.000000</td>\n",
       "      <td>0.000000</td>\n",
       "    </tr>\n",
       "    <tr>\n",
       "      <th>25%</th>\n",
       "      <td>40.000000</td>\n",
       "      <td>274.575000</td>\n",
       "      <td>9.000000</td>\n",
       "      <td>12491.902500</td>\n",
       "      <td>0.000000</td>\n",
       "    </tr>\n",
       "    <tr>\n",
       "      <th>50%</th>\n",
       "      <td>62.000000</td>\n",
       "      <td>430.600000</td>\n",
       "      <td>30.000000</td>\n",
       "      <td>16943.235000</td>\n",
       "      <td>0.000000</td>\n",
       "    </tr>\n",
       "    <tr>\n",
       "      <th>75%</th>\n",
       "      <td>82.000000</td>\n",
       "      <td>571.927500</td>\n",
       "      <td>57.000000</td>\n",
       "      <td>21424.700000</td>\n",
       "      <td>1.000000</td>\n",
       "    </tr>\n",
       "    <tr>\n",
       "      <th>max</th>\n",
       "      <td>244.000000</td>\n",
       "      <td>1632.060000</td>\n",
       "      <td>224.000000</td>\n",
       "      <td>49745.730000</td>\n",
       "      <td>1.000000</td>\n",
       "    </tr>\n",
       "  </tbody>\n",
       "</table>\n",
       "</div>"
      ],
      "text/plain": [
       "             calls      minutes     messages       mb_used     is_ultra\n",
       "count  3214.000000  3214.000000  3214.000000   3214.000000  3214.000000\n",
       "mean     63.038892   438.208787    38.281269  17207.673836     0.306472\n",
       "std      33.236368   234.569872    36.148326   7570.968246     0.461100\n",
       "min       0.000000     0.000000     0.000000      0.000000     0.000000\n",
       "25%      40.000000   274.575000     9.000000  12491.902500     0.000000\n",
       "50%      62.000000   430.600000    30.000000  16943.235000     0.000000\n",
       "75%      82.000000   571.927500    57.000000  21424.700000     1.000000\n",
       "max     244.000000  1632.060000   224.000000  49745.730000     1.000000"
      ]
     },
     "execution_count": 5,
     "metadata": {},
     "output_type": "execute_result"
    }
   ],
   "source": [
    "#Integrated display of the columns\n",
    "df.describe(include='all')"
   ]
  },
  {
   "cell_type": "markdown",
   "id": "ec9abe25",
   "metadata": {},
   "source": [
    "- `calls`, `minutes`, `mb_used`, `is_ultra` seem normally distributed with close mean and median values.\n",
    "- At 25%, `messages` has a low value (9), indicating a positively skewed distribution.\n",
    "\n",
    "All seems in order, let's move on.."
   ]
  },
  {
   "cell_type": "code",
   "execution_count": 6,
   "id": "d75bb06b",
   "metadata": {},
   "outputs": [
    {
     "data": {
      "image/png": "[encoded data removed]",
      "text/plain": [
       "<Figure size 360x216 with 1 Axes>"
      ]
     },
     "metadata": {
      "needs_background": "light"
     },
     "output_type": "display_data"
    }
   ],
   "source": [
    "#EDA- target\n",
    "ax=df['is_ultra'].value_counts().plot(kind='bar',figsize=(5,3),ylabel='frequency')\n",
    "ax.bar_label(ax.containers[0]);"
   ]
  },
  {
   "cell_type": "markdown",
   "id": "12efceb1",
   "metadata": {},
   "source": [
    "Plot shows there are more \"Smart\" observations than \"Ultra\" by over twice the amount."
   ]
  },
  {
   "cell_type": "code",
   "execution_count": 7,
   "id": "3d0a8468",
   "metadata": {},
   "outputs": [
    {
     "data": {
      "image/png": "[encoded data removed]",
      "text/plain": [
       "<Figure size 360x216 with 1 Axes>"
      ]
     },
     "metadata": {
      "needs_background": "light"
     },
     "output_type": "display_data"
    },
    {
     "data": {
      "image/png": "[encoded data removed]",
      "text/plain": [
       "<Figure size 360x216 with 1 Axes>"
      ]
     },
     "metadata": {
      "needs_background": "light"
     },
     "output_type": "display_data"
    },
    {
     "data": {
      "image/png": "[encoded data removed]",
      "text/plain": [
       "<Figure size 360x216 with 1 Axes>"
      ]
     },
     "metadata": {
      "needs_background": "light"
     },
     "output_type": "display_data"
    },
    {
     "data": {
      "image/png": "[encoded data removed]",
      "text/plain": [
       "<Figure size 360x216 with 1 Axes>"
      ]
     },
     "metadata": {
      "needs_background": "light"
     },
     "output_type": "display_data"
    }
   ],
   "source": [
    "#EDA- features\n",
    "for feature in ['calls','messages','mb_used','minutes']:\n",
    "    df.hist(feature,figsize=(5,3))\n",
    "    plt.ylabel('frequency');"
   ]
  },
  {
   "cell_type": "markdown",
   "id": "9be58eaf",
   "metadata": {},
   "source": [
    "Plots above depict an insignificant number of outliers with distributions as suspected earlier."
   ]
  },
  {
   "cell_type": "markdown",
   "id": "11ec98df",
   "metadata": {},
   "source": [
    "# Split source data into training set, validation set and test set"
   ]
  },
  {
   "cell_type": "code",
   "execution_count": 8,
   "id": "4ef5149f",
   "metadata": {},
   "outputs": [],
   "source": [
    "#Splitting data into train and test sets (X- features, y-target)\n",
    "X = df.drop('is_ultra', axis=1)\n",
    "y = df['is_ultra']\n",
    "X_train, X_test, y_train, y_test = train_test_split(X, y, test_size = 0.2, stratify=y, random_state=12345)"
   ]
  },
  {
   "cell_type": "markdown",
   "id": "51e0d73c",
   "metadata": {},
   "source": [
    "Stratify parameter splits such that produced sample values' proportion is the same as provided values' proportion.\n",
    "\n",
    "For example, if y is binary categorical with 25% of zeros and 75% of ones, stratify=y will make random splits into 25% of 0's and 75% of 1's."
   ]
  },
  {
   "cell_type": "code",
   "execution_count": 9,
   "id": "e7e5d04d",
   "metadata": {},
   "outputs": [],
   "source": [
    "#Splitting train set into train and validation\n",
    "X_train, X_valid, y_train, y_valid = train_test_split(X_train, y_train, test_size = 0.25, random_state=12345)"
   ]
  },
  {
   "cell_type": "code",
   "execution_count": 10,
   "id": "0dcaacdf",
   "metadata": {},
   "outputs": [],
   "source": [
    "#Naming sets\n",
    "X_test.name = 'X_test'\n",
    "X_valid.name = 'X_valid'\n",
    "y_train.name = 'y_train'\n",
    "y_valid.name = 'y_valid'\n",
    "y_test.name = 'y_test'\n",
    "X_train.name = 'X_train'"
   ]
  },
  {
   "cell_type": "code",
   "execution_count": 11,
   "id": "bfea417d",
   "metadata": {},
   "outputs": [
    {
     "name": "stdout",
     "output_type": "stream",
     "text": [
      "Size of X_train : (1928, 4)\n",
      "Size of y_train : (1928,)\n",
      "Size of X_valid : (643, 4)\n",
      "Size of y_valid : (643,)\n",
      "Size of X_test : (643, 4)\n",
      "Size of y_test : (643,)\n"
     ]
    }
   ],
   "source": [
    "#Checking set size\n",
    "for set in [X_train, y_train, X_valid, y_valid, X_test, y_test]:\n",
    "    print(\"Size of\", set.name, \":\", set.shape)"
   ]
  },
  {
   "cell_type": "markdown",
   "id": "0d523f6a",
   "metadata": {},
   "source": [
    "Source data successfully split into sets."
   ]
  },
  {
   "cell_type": "code",
   "execution_count": 12,
   "id": "44e5c647",
   "metadata": {},
   "outputs": [],
   "source": [
    "#Standard Scaling\n",
    "sc = ss()\n",
    "X_train = sc.fit_transform(X_train)\n",
    "X_valid = sc.transform(X_valid)\n",
    "X_test = sc.transform(X_test)"
   ]
  },
  {
   "cell_type": "markdown",
   "id": "444b9bf7",
   "metadata": {},
   "source": [
    "StandardScaler transforms data so distribution has mean value 0 and std 1."
   ]
  },
  {
   "cell_type": "markdown",
   "id": "6f63defb",
   "metadata": {},
   "source": [
    "# Investigate different model quality by changing hyperparameters"
   ]
  },
  {
   "cell_type": "markdown",
   "id": "79951140",
   "metadata": {},
   "source": [
    "## Decision Tree Classifier"
   ]
  },
  {
   "cell_type": "code",
   "execution_count": 13,
   "id": "2599b8cb",
   "metadata": {},
   "outputs": [
    {
     "data": {
      "text/plain": [
       "69.52"
      ]
     },
     "execution_count": 13,
     "metadata": {},
     "output_type": "execute_result"
    }
   ],
   "source": [
    "#Checking default accuracy\n",
    "dtc = DecisionTreeClassifier()\n",
    "dtc.fit(X_train, y_train)\n",
    "y_pred = dtc.predict(X_valid)\n",
    "\n",
    "acc_dtc_d = round(accuracy_score(y_valid,y_pred) * 100, 2)\n",
    "acc_dtc_d"
   ]
  },
  {
   "cell_type": "code",
   "execution_count": 14,
   "id": "86daba71",
   "metadata": {},
   "outputs": [
    {
     "data": {
      "text/html": [
       "<div>\n",
       "<style scoped>\n",
       "    .dataframe tbody tr th:only-of-type {\n",
       "        vertical-align: middle;\n",
       "    }\n",
       "\n",
       "    .dataframe tbody tr th {\n",
       "        vertical-align: top;\n",
       "    }\n",
       "\n",
       "    .dataframe thead th {\n",
       "        text-align: right;\n",
       "    }\n",
       "</style>\n",
       "<table border=\"1\" class=\"dataframe\">\n",
       "  <thead>\n",
       "    <tr style=\"text-align: right;\">\n",
       "      <th></th>\n",
       "      <th>max_depth</th>\n",
       "      <th>acc_dtc</th>\n",
       "    </tr>\n",
       "  </thead>\n",
       "  <tbody>\n",
       "    <tr>\n",
       "      <th>5</th>\n",
       "      <td>6</td>\n",
       "      <td>80.4</td>\n",
       "    </tr>\n",
       "  </tbody>\n",
       "</table>\n",
       "</div>"
      ],
      "text/plain": [
       "   max_depth  acc_dtc\n",
       "5          6     80.4"
      ]
     },
     "execution_count": 14,
     "metadata": {},
     "output_type": "execute_result"
    }
   ],
   "source": [
    "#Running loop to find best max_depth\n",
    "d = []\n",
    "for depth in range(1,11):\n",
    "    dtc = DecisionTreeClassifier(random_state=12345, max_depth=depth)\n",
    "    dtc.fit(X_train, y_train)\n",
    "    y_pred = dtc.predict(X_valid)\n",
    "    acc_dtc = round(accuracy_score(y_valid,y_pred) * 100, 2)\n",
    "    d.append({'max_depth': depth, 'acc_dtc': acc_dtc})\n",
    "\n",
    "best_param = pd.DataFrame(d).nlargest(1, ['acc_dtc'], keep='first')\n",
    "best_param"
   ]
  },
  {
   "cell_type": "markdown",
   "id": "208a622c",
   "metadata": {},
   "source": [
    "max_depth=6 has the highest accuracy score of 80.4"
   ]
  },
  {
   "cell_type": "code",
   "execution_count": 15,
   "id": "d59b9159",
   "metadata": {},
   "outputs": [
    {
     "data": {
      "text/plain": [
       "80.4"
      ]
     },
     "execution_count": 15,
     "metadata": {},
     "output_type": "execute_result"
    }
   ],
   "source": [
    "#Checking tuned accuracy\n",
    "dtc = DecisionTreeClassifier(random_state=12345, max_depth=6)\n",
    "dtc.fit(X_train, y_train)\n",
    "y_pred = dtc.predict(X_valid)\n",
    "\n",
    "acc_dtc = round(accuracy_score(y_valid,y_pred) * 100, 2)\n",
    "acc_dtc"
   ]
  },
  {
   "cell_type": "markdown",
   "id": "a5f4fbc1",
   "metadata": {},
   "source": [
    "## Random Forest Classifier"
   ]
  },
  {
   "cell_type": "code",
   "execution_count": 16,
   "id": "ce0c4777",
   "metadata": {},
   "outputs": [
    {
     "data": {
      "text/plain": [
       "78.69"
      ]
     },
     "execution_count": 16,
     "metadata": {},
     "output_type": "execute_result"
    }
   ],
   "source": [
    "#Checking default accuracy\n",
    "rfc = RandomForestClassifier(random_state=12345)\n",
    "rfc.fit(X_train, y_train)\n",
    "\n",
    "y_pred = rfc.predict(X_valid)\n",
    "\n",
    "acc_rfc_d = round(accuracy_score(y_valid,y_pred) * 100, 2)\n",
    "acc_rfc_d"
   ]
  },
  {
   "cell_type": "code",
   "execution_count": 17,
   "id": "4c022e17",
   "metadata": {
    "scrolled": true
   },
   "outputs": [
    {
     "data": {
      "text/html": [
       "<div>\n",
       "<style scoped>\n",
       "    .dataframe tbody tr th:only-of-type {\n",
       "        vertical-align: middle;\n",
       "    }\n",
       "\n",
       "    .dataframe tbody tr th {\n",
       "        vertical-align: top;\n",
       "    }\n",
       "\n",
       "    .dataframe thead th {\n",
       "        text-align: right;\n",
       "    }\n",
       "</style>\n",
       "<table border=\"1\" class=\"dataframe\">\n",
       "  <thead>\n",
       "    <tr style=\"text-align: right;\">\n",
       "      <th></th>\n",
       "      <th>n_estimators</th>\n",
       "      <th>max_depth</th>\n",
       "      <th>acc_rfc</th>\n",
       "    </tr>\n",
       "  </thead>\n",
       "  <tbody>\n",
       "    <tr>\n",
       "      <th>16</th>\n",
       "      <td>10</td>\n",
       "      <td>7</td>\n",
       "      <td>80.09</td>\n",
       "    </tr>\n",
       "  </tbody>\n",
       "</table>\n",
       "</div>"
      ],
      "text/plain": [
       "    n_estimators  max_depth  acc_rfc\n",
       "16            10          7    80.09"
      ]
     },
     "execution_count": 17,
     "metadata": {},
     "output_type": "execute_result"
    }
   ],
   "source": [
    "#Running loop to find best n_estimators\n",
    "d = []\n",
    "for estim in range(1,51,9):\n",
    "    for depth in range(1,11):\n",
    "        rfc = RandomForestClassifier(random_state=12345, n_estimators=estim, max_depth=depth)\n",
    "        rfc.fit(X_train, y_train)\n",
    "        y_pred = rfc.predict(X_valid)\n",
    "        acc_rfc = round(accuracy_score(y_valid,y_pred) * 100, 2)\n",
    "        d.append({'n_estimators':estim, 'max_depth':depth, 'acc_rfc':acc_rfc})\n",
    "\n",
    "best_param = pd.DataFrame(d).nlargest(1, ['acc_rfc'], keep='first')\n",
    "best_param"
   ]
  },
  {
   "cell_type": "markdown",
   "id": "d0b8e897",
   "metadata": {},
   "source": [
    "max_depth=7 and n_estimators=10 has the highest accuracy score of 80.09"
   ]
  },
  {
   "cell_type": "code",
   "execution_count": 18,
   "id": "a1d556ce",
   "metadata": {
    "scrolled": false
   },
   "outputs": [
    {
     "data": {
      "text/plain": [
       "80.09"
      ]
     },
     "execution_count": 18,
     "metadata": {},
     "output_type": "execute_result"
    }
   ],
   "source": [
    "#Checking tuned accuracy\n",
    "rfc = RandomForestClassifier(random_state=12345, n_estimators = 10, max_depth = 7)\n",
    "rfc.fit(X_train, y_train)\n",
    "\n",
    "y_pred = rfc.predict(X_valid)\n",
    "\n",
    "acc_rfc = round(accuracy_score(y_valid,y_pred) * 100, 2)\n",
    "acc_rfc"
   ]
  },
  {
   "cell_type": "markdown",
   "id": "e430d532",
   "metadata": {},
   "source": [
    "## Logistic Regression"
   ]
  },
  {
   "cell_type": "code",
   "execution_count": 19,
   "id": "14524ec3",
   "metadata": {
    "scrolled": true
   },
   "outputs": [
    {
     "data": {
      "text/plain": [
       "74.49"
      ]
     },
     "execution_count": 19,
     "metadata": {},
     "output_type": "execute_result"
    }
   ],
   "source": [
    "#Checking default accuracy\n",
    "lr = LogisticRegression()\n",
    "lr.fit(X_train, y_train)     \n",
    "y_pred = lr.predict(X_valid)\n",
    "\n",
    "acc_lr_d = round(accuracy_score(y_valid,y_pred) * 100, 2)\n",
    "acc_lr_d"
   ]
  },
  {
   "cell_type": "code",
   "execution_count": 20,
   "id": "4eb88f19",
   "metadata": {},
   "outputs": [
    {
     "data": {
      "text/html": [
       "<div>\n",
       "<style scoped>\n",
       "    .dataframe tbody tr th:only-of-type {\n",
       "        vertical-align: middle;\n",
       "    }\n",
       "\n",
       "    .dataframe tbody tr th {\n",
       "        vertical-align: top;\n",
       "    }\n",
       "\n",
       "    .dataframe thead th {\n",
       "        text-align: right;\n",
       "    }\n",
       "</style>\n",
       "<table border=\"1\" class=\"dataframe\">\n",
       "  <thead>\n",
       "    <tr style=\"text-align: right;\">\n",
       "      <th></th>\n",
       "      <th>solver</th>\n",
       "      <th>C</th>\n",
       "      <th>acc_lr</th>\n",
       "    </tr>\n",
       "  </thead>\n",
       "  <tbody>\n",
       "    <tr>\n",
       "      <th>1998</th>\n",
       "      <td>liblinear</td>\n",
       "      <td>0.01</td>\n",
       "      <td>75.12</td>\n",
       "    </tr>\n",
       "  </tbody>\n",
       "</table>\n",
       "</div>"
      ],
      "text/plain": [
       "         solver     C  acc_lr\n",
       "1998  liblinear  0.01   75.12"
      ]
     },
     "execution_count": 20,
     "metadata": {},
     "output_type": "execute_result"
    }
   ],
   "source": [
    "#Running loop to find best hyperparameters\n",
    "d = []\n",
    "for solver in ['newton-cg', 'lbfgs', 'liblinear', 'sag', 'saga']:\n",
    "    for C in [x / 100.0 for x in range(1, 1000)]:\n",
    "        lr = LogisticRegression(random_state=12345, solver=solver, C=C)\n",
    "        lr.fit(X_train, y_train)\n",
    "        y_pred = lr.predict(X_valid)\n",
    "        acc_lr = round(accuracy_score(y_valid,y_pred) * 100, 2)\n",
    "        d.append({'solver':solver, 'C':C, 'acc_lr':acc_lr})\n",
    "\n",
    "best_param = pd.DataFrame(d).nlargest(1, ['acc_lr'], keep='first')\n",
    "best_param"
   ]
  },
  {
   "cell_type": "markdown",
   "id": "a6bf78c8",
   "metadata": {},
   "source": [
    "solver=liblinear and C=0.01 has the highest accuracy score of 75.12"
   ]
  },
  {
   "cell_type": "code",
   "execution_count": 21,
   "id": "8e3acf5b",
   "metadata": {
    "scrolled": true
   },
   "outputs": [
    {
     "data": {
      "text/plain": [
       "75.12"
      ]
     },
     "execution_count": 21,
     "metadata": {},
     "output_type": "execute_result"
    }
   ],
   "source": [
    "#Checking tuned accuracy\n",
    "lr = LogisticRegression(random_state=12345, solver=\"liblinear\", C=0.01)\n",
    "lr.fit(X_train, y_train)     \n",
    "y_pred = lr.predict(X_valid)\n",
    "\n",
    "acc_lr = round(accuracy_score(y_valid,y_pred)*100,2)\n",
    "acc_lr"
   ]
  },
  {
   "cell_type": "markdown",
   "id": "463b5116",
   "metadata": {},
   "source": [
    "Logistic Regression is used to validate assumptions and decisions when creating feature and completing goals. It's done by calculating the correlation coefficient of the features in the decision function.\n",
    "\n",
    "Positive coefficients increase odds of response, thus increasing probability. Negative coefficients decrease the odds of response, thus decreasing probability."
   ]
  },
  {
   "cell_type": "code",
   "execution_count": 22,
   "id": "8a2159d0",
   "metadata": {},
   "outputs": [
    {
     "data": {
      "text/html": [
       "<div>\n",
       "<style scoped>\n",
       "    .dataframe tbody tr th:only-of-type {\n",
       "        vertical-align: middle;\n",
       "    }\n",
       "\n",
       "    .dataframe tbody tr th {\n",
       "        vertical-align: top;\n",
       "    }\n",
       "\n",
       "    .dataframe thead th {\n",
       "        text-align: right;\n",
       "    }\n",
       "</style>\n",
       "<table border=\"1\" class=\"dataframe\">\n",
       "  <thead>\n",
       "    <tr style=\"text-align: right;\">\n",
       "      <th></th>\n",
       "      <th>feature</th>\n",
       "      <th>correlation</th>\n",
       "    </tr>\n",
       "  </thead>\n",
       "  <tbody>\n",
       "    <tr>\n",
       "      <th>2</th>\n",
       "      <td>messages</td>\n",
       "      <td>0.292926</td>\n",
       "    </tr>\n",
       "    <tr>\n",
       "      <th>3</th>\n",
       "      <td>mb_used</td>\n",
       "      <td>0.216632</td>\n",
       "    </tr>\n",
       "    <tr>\n",
       "      <th>0</th>\n",
       "      <td>calls</td>\n",
       "      <td>0.178899</td>\n",
       "    </tr>\n",
       "    <tr>\n",
       "      <th>1</th>\n",
       "      <td>minutes</td>\n",
       "      <td>0.143173</td>\n",
       "    </tr>\n",
       "  </tbody>\n",
       "</table>\n",
       "</div>"
      ],
      "text/plain": [
       "    feature  correlation\n",
       "2  messages     0.292926\n",
       "3   mb_used     0.216632\n",
       "0     calls     0.178899\n",
       "1   minutes     0.143173"
      ]
     },
     "execution_count": 22,
     "metadata": {},
     "output_type": "execute_result"
    }
   ],
   "source": [
    "#Calculating correlation\n",
    "df_coeff = pd.DataFrame()\n",
    "df_coeff['feature'] = ['calls','minutes','messages','mb_used']\n",
    "df_coeff[\"correlation\"] = pd.Series(lr.coef_[0])\n",
    "\n",
    "df_coeff.sort_values(by='correlation', ascending=False)"
   ]
  },
  {
   "cell_type": "markdown",
   "id": "babb77c7",
   "metadata": {},
   "source": [
    "All 4 coefficients are positive, implying positive correlation between features and target."
   ]
  },
  {
   "cell_type": "code",
   "execution_count": 23,
   "id": "da656cbd",
   "metadata": {},
   "outputs": [
    {
     "data": {
      "image/png": "[encoded data removed]",
      "text/plain": [
       "<Figure size 503.375x216 with 1 Axes>"
      ]
     },
     "metadata": {
      "needs_background": "light"
     },
     "output_type": "display_data"
    }
   ],
   "source": [
    "#Creating DF of default and tuned model scores\n",
    "models = pd.DataFrame({\n",
    "    'model': ['Decision Tree Classifier','Random Forest Classifier','Logistic Regression'],\n",
    "    'default': [acc_dtc_d, acc_rfc_d, acc_lr_d],\n",
    "    'tuned': [acc_dtc, acc_rfc, acc_lr]})\n",
    "\n",
    "models= pd.melt(models, id_vars=\"model\", var_name=\"type\", value_name=\"score\").sort_values(by='model')\n",
    "\n",
    "#Plotting\n",
    "g=sns.factorplot(y='score', x='model', data=models, kind='bar', hue='type',size=3, aspect=2)\n",
    "plt.title('ML accuracy score per model')\n",
    "\n",
    "for ax in g.axes.ravel():\n",
    "      for p in ax.patches:\n",
    "            ax.annotate(format(p.get_height(),'.2f'),\n",
    "            (p.get_x()+p.get_width()/2., p.get_height()), ha='center',\n",
    "            va='bottom', xytext = (0,-50), textcoords = 'offset points');"
   ]
  },
  {
   "cell_type": "markdown",
   "id": "72a072d1",
   "metadata": {},
   "source": [
    "DecisionTreeClassifier is the best model, now we'll check quality."
   ]
  },
  {
   "cell_type": "markdown",
   "id": "b306ad73",
   "metadata": {},
   "source": [
    "# Model quality check using test set"
   ]
  },
  {
   "cell_type": "code",
   "execution_count": 24,
   "id": "24c3b06e",
   "metadata": {},
   "outputs": [
    {
     "data": {
      "text/plain": [
       "79.94"
      ]
     },
     "execution_count": 24,
     "metadata": {},
     "output_type": "execute_result"
    }
   ],
   "source": [
    "#Retraining best tuned model on training set\n",
    "X = df.drop('is_ultra', axis=1)\n",
    "y = df['is_ultra']\n",
    "X_train, X_test, y_train, y_test = train_test_split(X, y, test_size = 0.2, stratify=y, random_state=12345)\n",
    "\n",
    "#Testing on test set\n",
    "rfc = DecisionTreeClassifier(max_depth=6, random_state=12345)\n",
    "rfc.fit(X_train, y_train)\n",
    "y_pred = rfc.predict(X_test)\n",
    "\n",
    "acc_rfc = round(accuracy_score(y_test,y_pred) * 100, 2)\n",
    "acc_rfc"
   ]
  },
  {
   "cell_type": "markdown",
   "id": "8ec0df56",
   "metadata": {},
   "source": [
    "# Model sanity check"
   ]
  },
  {
   "cell_type": "code",
   "execution_count": 25,
   "id": "c438485f",
   "metadata": {},
   "outputs": [
    {
     "name": "stdout",
     "output_type": "stream",
     "text": [
      "69.36\n"
     ]
    }
   ],
   "source": [
    "#Dummy classification to check baseline\n",
    "dummy= DummyClassifier(random_state=12345)\n",
    "dummy.fit(X_train, y_train)\n",
    "dummy_score = dummy.score(X_test, y_test)\n",
    "\n",
    "print(round(dummy_score * 100, 2))"
   ]
  },
  {
   "cell_type": "markdown",
   "id": "b3c56eea",
   "metadata": {},
   "source": [
    "The model needs to have an accuracy higher than the baseline 69.36.\n",
    "\n",
    "The final accuracy of DesicionTreeClassifier model is higher by 10.58 (79.94) than the baseline accuracy (DummyClassifier)."
   ]
  },
  {
   "cell_type": "markdown",
   "id": "5e2b2261",
   "metadata": {},
   "source": [
    "# Conclusion"
   ]
  },
  {
   "cell_type": "markdown",
   "id": "0a179e29",
   "metadata": {},
   "source": [
    "In summary, in this project we developed a binary classification model to analyze subscribers' behavior and recommend one of Megaline's newer plans: Smart or Ultra.\n",
    "\n",
    "In this project, we followed the methodology as follows:\n",
    "- Open data file and study general information.\n",
    "- Data preprocessing.\n",
    "- Split source data into sets.\n",
    "- Tune hyperparameters.\n",
    "- Investigate model quality by accuracy score.\n",
    "- Find best model.\n",
    "- Testing with test set.\n",
    "- Model sanity check using DummyClassifier.\n",
    "- And now, final conclusion.\n",
    "\n",
    "Findings:\n",
    "- Outliers number was not significant, therefore we kept data as is.\n",
    "- Most features' distribution (except for `messages`) were close to normal with a slight deviation. We then performed standard scaling before modeling.\n",
    "- Target classes were imbalanced. There were over twice as many observations for \"Smart\" than for \"Ultra\".\n",
    "\n",
    "Results of tunning 3 learning algorithms using training set indicated that DecisionTreeClassifier model has the highest accuracy score of 80.4%. Further the model was retrained on the entire training set including validation set. Afterwards model was tested using the test set and reached 79.94% accuracy. \n",
    "\n",
    "Finally, model sanity check successfully resulted in the test score being 10.58% higher than the baseline accuracy.\n",
    "\n",
    "In conclusion of this classification task, we indeed developed a model to pick the right plan with the highest possible accuracy."
   ]
  }
 ],
 "metadata": {
  "ExecuteTimeLog": [
   {
    "duration": 723,
    "start_time": "2022-03-12T23:47:09.007Z"
   },
   {
    "duration": 125,
    "start_time": "2022-03-12T23:47:10.180Z"
   },
   {
    "duration": 21,
    "start_time": "2022-03-12T23:47:13.556Z"
   },
   {
    "duration": 14,
    "start_time": "2022-03-12T23:47:15.330Z"
   },
   {
    "duration": 14,
    "start_time": "2022-03-12T23:47:30.178Z"
   }
  ],
  "kernelspec": {
   "display_name": "Python 3",
   "language": "python",
   "name": "python3"
  },
  "language_info": {
   "codemirror_mode": {
    "name": "ipython",
    "version": 3
   },
   "file_extension": ".py",
   "mimetype": "text/x-python",
   "name": "python",
   "nbconvert_exporter": "python",
   "pygments_lexer": "ipython3",
   "version": "3.8.8"
  },
  "toc": {
   "base_numbering": 1,
   "nav_menu": {},
   "number_sections": true,
   "sideBar": true,
   "skip_h1_title": false,
   "title_cell": "Table of Contents",
   "title_sidebar": "Contents",
   "toc_cell": true,
   "toc_position": {
    "height": "100px",
    "left": "134px",
    "top": "109.4000244140625px",
    "width": "165px"
   },
   "toc_section_display": true,
   "toc_window_display": true
  }
 },
 "nbformat": 4,
 "nbformat_minor": 5
}
